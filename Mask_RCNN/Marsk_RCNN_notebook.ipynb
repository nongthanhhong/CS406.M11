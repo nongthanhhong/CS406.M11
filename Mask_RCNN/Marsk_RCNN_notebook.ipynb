{
  "nbformat": 4,
  "nbformat_minor": 0,
  "metadata": {
    "colab": {
      "name": "Marsk_RCNN_notebook.ipynb",
      "provenance": []
    },
    "kernelspec": {
      "name": "python3",
      "display_name": "Python 3"
    },
    "language_info": {
      "name": "python"
    },
    "accelerator": "TPU"
  },
  "cells": [
    {
      "cell_type": "code",
      "execution_count": null,
      "metadata": {
        "id": "gaT2vU1FhzMj"
      },
      "outputs": [],
      "source": [
        ""
      ]
    }
  ]
}